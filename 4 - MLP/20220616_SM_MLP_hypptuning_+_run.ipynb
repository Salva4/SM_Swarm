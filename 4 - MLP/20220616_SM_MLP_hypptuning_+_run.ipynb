{
  "nbformat": 4,
  "nbformat_minor": 0,
  "metadata": {
    "colab": {
      "name": "20220616 SM MLP hypptuning + run.ipynb",
      "provenance": [],
      "collapsed_sections": []
    },
    "kernelspec": {
      "name": "python3",
      "display_name": "Python 3"
    },
    "language_info": {
      "name": "python"
    },
    "accelerator": "GPU",
    "gpuClass": "standard"
  },
  "cells": [
    {
      "cell_type": "markdown",
      "source": [
        "# Load data and scripts\n",
        "\n",
        "1 - Upload zip file (...). \\\\\n",
        "2 - Run the following commands:"
      ],
      "metadata": {
        "id": "RZ0bcM8baj3t"
      }
    },
    {
      "cell_type": "code",
      "execution_count": 5,
      "metadata": {
        "id": "opMDZj7ZjKj5"
      },
      "outputs": [],
      "source": [
        "!unzip SM_* > null\n",
        "!mv SM_Proj_COD*/* . > null\n",
        "!rm -r SM_Proj_COD* > null\n",
        "!rm -r __MAC* > null"
      ]
    },
    {
      "cell_type": "markdown",
      "source": [
        "## Hyperparameter tuning"
      ],
      "metadata": {
        "id": "7C51pKl6avyU"
      }
    },
    {
      "cell_type": "code",
      "source": [
        "!python3 src/mlp_hypptuning.py --ds pca --small no --bal yes"
      ],
      "metadata": {
        "colab": {
          "base_uri": "https://localhost:8080/"
        },
        "id": "6XhRvBNSA6LM",
        "outputId": "9869e43b-c8f2-42f8-f06e-ce0af34f96c5"
      },
      "execution_count": null,
      "outputs": [
        {
          "output_type": "stream",
          "name": "stdout",
          "text": [
            "pca no yes\n",
            "\n",
            "Hyperparameters selection: (AUC: 0.9189081440740916)\n",
            "\tWidth\t256\n",
            "\tDepth\t4\n",
            "\tLR\t0.1\n",
            "\tMomentum\t0.9\n"
          ]
        }
      ]
    },
    {
      "cell_type": "markdown",
      "source": [
        "## Run MLP"
      ],
      "metadata": {
        "id": "caHxkXQ5ayp6"
      }
    },
    {
      "cell_type": "code",
      "source": [
        "!python3 src/mlp.py --ds original --bal no"
      ],
      "metadata": {
        "colab": {
          "base_uri": "https://localhost:8080/"
        },
        "id": "NKicEKeZYicw",
        "outputId": "9e451dc6-250e-40b5-e2e8-a5ee07f9a687"
      },
      "execution_count": 18,
      "outputs": [
        {
          "output_type": "stream",
          "name": "stdout",
          "text": [
            "- Write the name of the dataset:\n",
            "  original / lda / pca / autoenc / pca_corr1 / pca_corr2 / pca_corr3\n",
            "--> original\n",
            "Balanced dataset? no / yes\n",
            "--> no\n",
            "NN Width: 5\n",
            "NN Depth: 4\n",
            "LR: 1e-2\n",
            "SGD momentum: .9\n",
            "AUC on the test set, partition 1:  0.8955841952165482 \t Running time:  8.9644048213958740\n",
            "AUC on the test set, partition 2:  0.9046514970736522 \t Running time:  7.9254486560821533\n",
            "AUC on the test set, partition 3:  0.9048606776747697 \t Running time:  14.7635388374328613\n",
            "AUC on the test set, partition 4:  0.9133004926108373 \t Running time:  7.2099857330322266\n",
            "AUC on the test set, partition 5:  0.9101790592750771 \t Running time:  10.9604353904724121\n",
            "AUC on the test set, partition 6:  0.9094660757111699 \t Running time:  8.0226459503173828\n",
            "AUC on the test set, partition 7:  0.8944771178977418 \t Running time:  7.5998289585113525\n",
            "AUC on the test set, partition 8:  0.8913119533527696 \t Running time:  7.6917417049407959\n",
            "AUC on the test set, partition 9:  0.9113307978544264 \t Running time:  12.2816371917724609\n",
            "AUC on the test set, partition 10:  0.9190660204944491 \t Running time:  6.0663993358612061\n",
            "Mean AUC: 0.9054227887161442\tMean running time: 6.066399335861206\n",
            "\t0.8955841660499573 8.964405059814453\n",
            "\t0.9046515226364136 7.925448417663574\n",
            "\t0.9048606753349304 14.763538360595703\n",
            "\t0.9133005142211914 7.209985733032227\n",
            "\t0.910179078578949 10.96043586730957\n",
            "\t0.9094660878181458 8.022645950317383\n",
            "\t0.894477128982544 7.599828720092773\n",
            "\t0.8913119435310364 7.691741943359375\n",
            "\t0.9113308191299438 12.281637191772461\n",
            "\t0.9190660119056702 6.066399574279785\n"
          ]
        }
      ]
    },
    {
      "cell_type": "code",
      "source": [
        "!python3 src/mlp.py --ds original --bal yes"
      ],
      "metadata": {
        "colab": {
          "base_uri": "https://localhost:8080/"
        },
        "id": "UgBxWDrxWG-b",
        "outputId": "4f90d330-39ec-4209-b386-28691a968b0e"
      },
      "execution_count": 20,
      "outputs": [
        {
          "output_type": "stream",
          "name": "stdout",
          "text": [
            "- Write the name of the dataset:\n",
            "  original / lda / pca / autoenc / pca_corr1 / pca_corr2 / pca_corr3\n",
            "--> original\n",
            "Balanced dataset? no / yes\n",
            "--> yes\n",
            "NN Width: 5\n",
            "NN Depth: 4\n",
            "LR: 1e-2\n",
            "SGD momentum: .9\n",
            "AUC on the test set, partition 1:  0.9217560630200036 \t Running time:  8.0954725742340088\n",
            "AUC on the test set, partition 2:  0.9266304949005553 \t Running time:  5.1794865131378174\n",
            "AUC on the test set, partition 3:  0.9222695150896467 \t Running time:  7.5990343093872070\n",
            "AUC on the test set, partition 4:  0.9245136953856719 \t Running time:  7.5964448451995850\n",
            "AUC on the test set, partition 5:  0.9139613397734121 \t Running time:  6.0554695129394531\n",
            "AUC on the test set, partition 6:  0.9158042389088209 \t Running time:  6.7183103561401367\n",
            "AUC on the test set, partition 7:  0.9241854807391070 \t Running time:  8.2410073280334473\n",
            "AUC on the test set, partition 8:  0.9212361997414574 \t Running time:  5.8919444084167480\n",
            "AUC on the test set, partition 9:  0.9228406328917883 \t Running time:  6.9186661243438721\n",
            "AUC on the test set, partition 10:  0.9166132605427644 \t Running time:  9.6095151901245117\n",
            "Mean AUC: 0.9209810920993228\tMean running time: 9.609515190124512\n",
            "\t0.9217560887336731 8.09547233581543\n",
            "\t0.9266304969787598 5.179486274719238\n",
            "\t0.9222695231437683 7.599034309387207\n",
            "\t0.9245136976242065 7.596445083618164\n",
            "\t0.9139613509178162 6.055469512939453\n",
            "\t0.9158042669296265 6.718310356140137\n",
            "\t0.9241854548454285 8.241006851196289\n",
            "\t0.9212362170219421 5.891944408416748\n",
            "\t0.9228406548500061 6.918665885925293\n",
            "\t0.9166132807731628 9.609515190124512\n"
          ]
        }
      ]
    },
    {
      "cell_type": "code",
      "source": [
        "!python3 src/mlp.py --ds lda --small no --bal no"
      ],
      "metadata": {
        "colab": {
          "base_uri": "https://localhost:8080/"
        },
        "id": "NIw0FGkFTq7S",
        "outputId": "9fbc24e1-07c7-4ddb-dc76-f39c589b58f0"
      },
      "execution_count": null,
      "outputs": [
        {
          "output_type": "stream",
          "name": "stdout",
          "text": [
            "lda no no\n",
            "NN Width: 2\n",
            "NN Depth: 1\n",
            "LR: 1e-3\n",
            "SGD momentum: 5\n",
            "AUC on the test set, partition 1:  0.9006761358389510 \t Running time:  0.0667915344238281\n",
            "AUC on the test set, partition 2:  0.8982028552247190 \t Running time:  0.0679702758789062\n",
            "AUC on the test set, partition 3:  0.9091496550845215 \t Running time:  0.0590250492095947\n",
            "AUC on the test set, partition 4:  0.8986053355511484 \t Running time:  0.0650370121002197\n",
            "AUC on the test set, partition 5:  0.8982307121236208 \t Running time:  0.0619866847991943\n",
            "AUC on the test set, partition 6:  0.9024660247194632 \t Running time:  0.0585551261901855\n",
            "AUC on the test set, partition 7:  0.9031492806457631 \t Running time:  0.0492713451385498\n",
            "AUC on the test set, partition 8:  0.8996890184645286 \t Running time:  0.0498228073120117\n",
            "AUC on the test set, partition 9:  0.9054163004460363 \t Running time:  0.0486350059509277\n",
            "AUC on the test set, partition 10:  0.9029920319570350 \t Running time:  0.0471196174621582\n",
            "Mean AUC: 0.9018577350055788\tMean running time: 0.0471196174621582\n",
            "\t0.9006761312484741 0.06679153442382812\n",
            "\t0.8982028365135193 0.06797027587890625\n",
            "\t0.9091496467590332 0.05902504920959473\n",
            "\t0.8986053466796875 0.06503701210021973\n",
            "\t0.8982307314872742 0.061986684799194336\n",
            "\t0.9024659991264343 0.05855512619018555\n",
            "\t0.9031493067741394 0.049271345138549805\n",
            "\t0.8996890187263489 0.04982280731201172\n",
            "\t0.9054163098335266 0.048635005950927734\n",
            "\t0.9029920101165771 0.0471196174621582\n"
          ]
        }
      ]
    },
    {
      "cell_type": "code",
      "source": [
        "!python3 src/mlp.py --ds pca --small no --bal no"
      ],
      "metadata": {
        "colab": {
          "base_uri": "https://localhost:8080/"
        },
        "id": "jtlh78d7Trsh",
        "outputId": "b8cdc964-5099-4fad-d5d5-1cde44ca93fe"
      },
      "execution_count": null,
      "outputs": [
        {
          "output_type": "stream",
          "name": "stdout",
          "text": [
            "pca no no\n",
            "NN Width: 1024\n",
            "NN Depth: 1\n",
            "LR: 1e-2\n",
            "SGD momentum: .5\n",
            "AUC on the test set, partition 1:  0.9200281073968049 \t Running time:  0.2234907150268555\n",
            "AUC on the test set, partition 2:  0.9220529634048663 \t Running time:  0.2442591190338135\n",
            "AUC on the test set, partition 3:  0.9233957999065411 \t Running time:  0.1649563312530518\n",
            "AUC on the test set, partition 4:  0.8662167061181839 \t Running time:  0.1877291202545166\n",
            "AUC on the test set, partition 5:  0.9240403383214053 \t Running time:  0.4850723743438721\n",
            "AUC on the test set, partition 6:  0.8600481213668409 \t Running time:  0.1486256122589111\n",
            "AUC on the test set, partition 7:  0.9274644516523673 \t Running time:  0.1767609119415283\n",
            "AUC on the test set, partition 8:  0.9224165856818918 \t Running time:  0.3662688732147217\n",
            "AUC on the test set, partition 9:  0.9240151060876136 \t Running time:  0.2849569320678711\n",
            "AUC on the test set, partition 10:  0.9215528136678154 \t Running time:  0.1996195316314697\n",
            "Mean AUC: 0.911123099360433\tMean running time: 0.19961953163146973\n",
            "\t0.9200280904769897 0.22349071502685547\n",
            "\t0.9220529794692993 0.24425911903381348\n",
            "\t0.9233958125114441 0.16495633125305176\n",
            "\t0.8662167191505432 0.1877291202545166\n",
            "\t0.9240403175354004 0.48507237434387207\n",
            "\t0.8600481152534485 0.14862561225891113\n",
            "\t0.9274644255638123 0.17676091194152832\n",
            "\t0.9224165678024292 0.3662688732147217\n",
            "\t0.9240151047706604 0.2849569320678711\n",
            "\t0.921552836894989 0.19961953163146973\n"
          ]
        }
      ]
    },
    {
      "cell_type": "code",
      "source": [
        "!python3 src/mlp.py --ds autoenc --small no --bal no"
      ],
      "metadata": {
        "colab": {
          "base_uri": "https://localhost:8080/"
        },
        "id": "RTlApjIIkhFS",
        "outputId": "4d744ecc-100d-4d06-e559-6f16b3d99833"
      },
      "execution_count": null,
      "outputs": [
        {
          "output_type": "stream",
          "name": "stdout",
          "text": [
            "autoenc no no\n",
            "NN Width: 32\n",
            "NN Depth: 4\n",
            "LR: 1e-1\n",
            "SGD momentum: .9\n",
            "AUC on the test set, partition 1:  0.8984122495151907 \t Running time:  0.3513889312744141\n",
            "AUC on the test set, partition 2:  0.8927643517333750 \t Running time:  0.2882940769195557\n",
            "AUC on the test set, partition 3:  0.8348723273543626 \t Running time:  0.1999399662017822\n",
            "AUC on the test set, partition 4:  0.7886038427910349 \t Running time:  0.3819177150726318\n",
            "AUC on the test set, partition 5:  0.9034028800912505 \t Running time:  0.3258383274078369\n",
            "AUC on the test set, partition 6:  0.8815980800800076 \t Running time:  0.3998792171478271\n",
            "AUC on the test set, partition 7:  0.8189546840813682 \t Running time:  0.2929975986480713\n",
            "AUC on the test set, partition 8:  0.9052348558471008 \t Running time:  0.3903701305389404\n",
            "AUC on the test set, partition 9:  0.8129527103064752 \t Running time:  0.2102589607238770\n",
            "AUC on the test set, partition 10:  0.8703924617282379 \t Running time:  0.2748336791992188\n",
            "Mean AUC: 0.8607188443528404\tMean running time: 0.27483367919921875\n",
            "\t0.8984122276306152 0.35138893127441406\n",
            "\t0.8927643299102783 0.28829407691955566\n",
            "\t0.834872305393219 0.19993996620178223\n",
            "\t0.7886038422584534 0.38191771507263184\n",
            "\t0.9034028649330139 0.3258383274078369\n",
            "\t0.8815980553627014 0.39987921714782715\n",
            "\t0.8189547061920166 0.2929975986480713\n",
            "\t0.9052348732948303 0.39037013053894043\n",
            "\t0.8129526972770691 0.21025896072387695\n",
            "\t0.8703924417495728 0.27483367919921875\n"
          ]
        }
      ]
    },
    {
      "cell_type": "code",
      "source": [
        "!python3 src/mlp.py --ds pca_corr1 --small no --bal no"
      ],
      "metadata": {
        "colab": {
          "base_uri": "https://localhost:8080/"
        },
        "id": "-bi30XolTFoM",
        "outputId": "49f416f2-4eff-458f-aa48-0c7018c367d5"
      },
      "execution_count": null,
      "outputs": [
        {
          "output_type": "stream",
          "name": "stdout",
          "text": [
            "pca_corr1 no no\n",
            "NN Width: 256\n",
            "NN Depth: 1\n",
            "LR: 1e-1\n",
            "SGD momentum: .5\n",
            "AUC on the test set, partition 1:  0.9111987694669056 \t Running time:  0.1217465400695801\n",
            "AUC on the test set, partition 2:  0.9100892156457809 \t Running time:  0.1087286472320557\n",
            "AUC on the test set, partition 3:  0.8802415475930743 \t Running time:  0.0915594100952148\n",
            "AUC on the test set, partition 4:  0.8621614840474611 \t Running time:  0.2187252044677734\n",
            "AUC on the test set, partition 5:  0.9135281997843935 \t Running time:  0.0956797599792480\n",
            "AUC on the test set, partition 6:  0.8547802427279875 \t Running time:  0.0901377201080322\n",
            "AUC on the test set, partition 7:  0.9138656570067814 \t Running time:  0.1087138652801514\n",
            "AUC on the test set, partition 8:  0.9118204455173740 \t Running time:  0.0860853195190430\n",
            "AUC on the test set, partition 9:  0.8061298920333199 \t Running time:  0.0925989151000977\n",
            "AUC on the test set, partition 10:  0.9168928430654879 \t Running time:  0.1130971908569336\n",
            "Mean AUC: 0.8880708296888565\tMean running time: 0.1130971908569336\n",
            "\t0.9111987948417664 0.12174654006958008\n",
            "\t0.9100891947746277 0.10872864723205566\n",
            "\t0.8802415728569031 0.09155941009521484\n",
            "\t0.8621614575386047 0.21872520446777344\n",
            "\t0.9135282039642334 0.09567975997924805\n",
            "\t0.8547802567481995 0.09013772010803223\n",
            "\t0.9138656854629517 0.10871386528015137\n",
            "\t0.9118204712867737 0.08608531951904297\n",
            "\t0.8061298727989197 0.09259891510009766\n",
            "\t0.9168928265571594 0.1130971908569336\n"
          ]
        }
      ]
    },
    {
      "cell_type": "code",
      "source": [
        "!python3 src/mlp.py --ds pca_corr2 --small no --bal no"
      ],
      "metadata": {
        "colab": {
          "base_uri": "https://localhost:8080/"
        },
        "id": "v8gkLARdTG2C",
        "outputId": "068b08de-7763-4cf3-aefd-aa52ae6280b8"
      },
      "execution_count": null,
      "outputs": [
        {
          "output_type": "stream",
          "name": "stdout",
          "text": [
            "pca_corr2 no no\n",
            "NN Width: 128\n",
            "NN Depth: 1\n",
            "LR: 1e-1\n",
            "SGD momentum: .5\n",
            "AUC on the test set, partition 1:  0.8967518423647240 \t Running time:  0.1812450885772705\n",
            "AUC on the test set, partition 2:  0.8479472359859260 \t Running time:  0.1416425704956055\n",
            "AUC on the test set, partition 3:  0.8314461785216321 \t Running time:  0.0790736675262451\n",
            "AUC on the test set, partition 4:  0.8536075712804746 \t Running time:  0.0977268218994141\n",
            "AUC on the test set, partition 5:  0.8951450548257364 \t Running time:  0.0903861522674561\n",
            "AUC on the test set, partition 6:  0.8872404697560919 \t Running time:  0.0678584575653076\n",
            "AUC on the test set, partition 7:  0.8561191544039416 \t Running time:  0.0690913200378418\n",
            "AUC on the test set, partition 8:  0.9007818081651885 \t Running time:  0.1106638908386230\n",
            "AUC on the test set, partition 9:  0.9031550948775895 \t Running time:  0.0755124092102051\n",
            "AUC on the test set, partition 10:  0.8938271604938272 \t Running time:  0.0679051876068115\n",
            "Mean AUC: 0.8766021570675132\tMean running time: 0.06790518760681152\n",
            "\t0.8967518210411072 0.1812450885772705\n",
            "\t0.8479472398757935 0.14164257049560547\n",
            "\t0.8314461708068848 0.07907366752624512\n",
            "\t0.8536075949668884 0.09772682189941406\n",
            "\t0.895145058631897 0.09038615226745605\n",
            "\t0.887240469455719 0.06785845756530762\n",
            "\t0.8561191558837891 0.0690913200378418\n",
            "\t0.9007818102836609 0.11066389083862305\n",
            "\t0.9031550884246826 0.07551240921020508\n",
            "\t0.8938271403312683 0.06790518760681152\n"
          ]
        }
      ]
    },
    {
      "cell_type": "code",
      "source": [
        "!python3 src/mlp.py --ds pca_corr3 --small no --bal no"
      ],
      "metadata": {
        "colab": {
          "base_uri": "https://localhost:8080/"
        },
        "id": "aCWWxc2UTHgK",
        "outputId": "bfab06b0-6d22-43d5-97f6-1e286a73f726"
      },
      "execution_count": null,
      "outputs": [
        {
          "output_type": "stream",
          "name": "stdout",
          "text": [
            "pca_corr3 no no\n",
            "NN Width: 512\n",
            "NN Depth: 1\n",
            "LR: 1e-2\n",
            "SGD momentum: .5\n",
            "AUC on the test set, partition 1:  0.8885656328023400 \t Running time:  0.1411712169647217\n",
            "AUC on the test set, partition 2:  0.8900030472163312 \t Running time:  0.1544232368469238\n",
            "AUC on the test set, partition 3:  0.8331251216821337 \t Running time:  0.1589171886444092\n",
            "AUC on the test set, partition 4:  0.8374212970427618 \t Running time:  0.1633782386779785\n",
            "AUC on the test set, partition 5:  0.8400953698311008 \t Running time:  0.2259771823883057\n",
            "AUC on the test set, partition 6:  0.8328811766468255 \t Running time:  0.1311533451080322\n",
            "AUC on the test set, partition 7:  0.8989710974362654 \t Running time:  0.1381611824035645\n",
            "AUC on the test set, partition 8:  0.8888570989203101 \t Running time:  0.1398406028747559\n",
            "AUC on the test set, partition 9:  0.8889307633014274 \t Running time:  0.2465953826904297\n",
            "AUC on the test set, partition 10:  0.8930947844115817 \t Running time:  0.1385493278503418\n",
            "Mean AUC: 0.8691945389291078\tMean running time: 0.1385493278503418\n",
            "\t0.8885656595230103 0.14117121696472168\n",
            "\t0.8900030255317688 0.15442323684692383\n",
            "\t0.833125114440918 0.15891718864440918\n",
            "\t0.8374212980270386 0.16337823867797852\n",
            "\t0.8400953412055969 0.22597718238830566\n",
            "\t0.8328811526298523 0.13115334510803223\n",
            "\t0.8989710807800293 0.13816118240356445\n",
            "\t0.8888571262359619 0.13984060287475586\n",
            "\t0.8889307379722595 0.2465953826904297\n",
            "\t0.8930947780609131 0.1385493278503418\n"
          ]
        }
      ]
    },
    {
      "cell_type": "code",
      "source": [
        "!python3 src/mlp.py --ds pca --small yes --bal no"
      ],
      "metadata": {
        "colab": {
          "base_uri": "https://localhost:8080/"
        },
        "id": "jxIRxac7TIcB",
        "outputId": "3350f7e5-9e9a-4e9e-8836-c3aa1952afc3"
      },
      "execution_count": null,
      "outputs": [
        {
          "output_type": "stream",
          "name": "stdout",
          "text": [
            "pca yes no\n",
            "NN Width: 128\n",
            "NN Depth: 1\n",
            "LR: 1e-1\n",
            "SGD momentum: 0\n",
            "AUC on the test set, partition 1:  0.9223146518779218 \t Running time:  0.0597059726715088\n",
            "AUC on the test set, partition 2:  0.8689941660473747 \t Running time:  0.1594555377960205\n",
            "AUC on the test set, partition 3:  0.8641036583438330 \t Running time:  0.0949714183807373\n",
            "AUC on the test set, partition 4:  0.8633298734947752 \t Running time:  0.1800889968872070\n",
            "AUC on the test set, partition 5:  0.8590687776891750 \t Running time:  0.0861277580261230\n",
            "AUC on the test set, partition 6:  0.9145996403638671 \t Running time:  0.0497994422912598\n",
            "AUC on the test set, partition 7:  0.8533990962797631 \t Running time:  0.1129338741302490\n",
            "AUC on the test set, partition 8:  0.8559575092729993 \t Running time:  0.0971121788024902\n",
            "AUC on the test set, partition 9:  0.9252470077388620 \t Running time:  0.1595427989959717\n",
            "AUC on the test set, partition 10:  0.9170374045591112 \t Running time:  0.0969493389129639\n",
            "Mean AUC: 0.8844051785667683\tMean running time: 0.09694933891296387\n",
            "\t0.9223146438598633 0.05970597267150879\n",
            "\t0.8689941763877869 0.1594555377960205\n",
            "\t0.8641036748886108 0.0949714183807373\n",
            "\t0.8633298873901367 0.18008899688720703\n",
            "\t0.859068751335144 0.08612775802612305\n",
            "\t0.9145996570587158 0.049799442291259766\n",
            "\t0.8533990979194641 0.11293387413024902\n",
            "\t0.8559575080871582 0.09711217880249023\n",
            "\t0.9252470135688782 0.15954279899597168\n",
            "\t0.9170374274253845 0.09694933891296387\n"
          ]
        }
      ]
    },
    {
      "cell_type": "code",
      "source": [
        "!python3 src/mlp.py --ds pca_corr1 --small yes --bal no"
      ],
      "metadata": {
        "colab": {
          "base_uri": "https://localhost:8080/"
        },
        "id": "wVxTfAWhTIGs",
        "outputId": "f2fd849a-5ed3-4d6a-e3fc-4e16c2930f14"
      },
      "execution_count": null,
      "outputs": [
        {
          "output_type": "stream",
          "name": "stdout",
          "text": [
            "pca_corr1 yes no\n",
            "NN Width: 256\n",
            "NN Depth: 1\n",
            "LR: 1e-2\n",
            "SGD momentum: .9\n",
            "AUC on the test set, partition 1:  0.9119448943473427 \t Running time:  0.0872223377227783\n",
            "AUC on the test set, partition 2:  0.8734122291888168 \t Running time:  0.1134171485900879\n",
            "AUC on the test set, partition 3:  0.9084001782531194 \t Running time:  0.1069190502166748\n",
            "AUC on the test set, partition 4:  0.9084122006050346 \t Running time:  0.0631873607635498\n",
            "AUC on the test set, partition 5:  0.8898262034489579 \t Running time:  0.0902438163757324\n",
            "AUC on the test set, partition 6:  0.9089506172839505 \t Running time:  0.0721149444580078\n",
            "AUC on the test set, partition 7:  0.8936028786159955 \t Running time:  0.0803098678588867\n",
            "AUC on the test set, partition 8:  0.8912476561504432 \t Running time:  0.1094801425933838\n",
            "AUC on the test set, partition 9:  0.8463995586707918 \t Running time:  0.1104385852813721\n",
            "AUC on the test set, partition 10:  0.8353318056707888 \t Running time:  0.0799422264099121\n",
            "Mean AUC: 0.886752822223524\tMean running time: 0.07994222640991211\n",
            "\t0.9119448661804199 0.08722233772277832\n",
            "\t0.8734122514724731 0.11341714859008789\n",
            "\t0.9084001779556274 0.1069190502166748\n",
            "\t0.9084122180938721 0.0631873607635498\n",
            "\t0.8898261785507202 0.09024381637573242\n",
            "\t0.9089506268501282 0.07211494445800781\n",
            "\t0.8936029076576233 0.08030986785888672\n",
            "\t0.8912476301193237 0.10948014259338379\n",
            "\t0.8463995456695557 0.11043858528137207\n",
            "\t0.8353317975997925 0.07994222640991211\n"
          ]
        }
      ]
    },
    {
      "cell_type": "code",
      "source": [
        "!python3 src/mlp.py --ds pca_corr2 --small yes --bal no"
      ],
      "metadata": {
        "colab": {
          "base_uri": "https://localhost:8080/"
        },
        "id": "OMu1PwFET9ZK",
        "outputId": "0497d763-03ee-407e-ddd4-f2fa080707f3"
      },
      "execution_count": null,
      "outputs": [
        {
          "output_type": "stream",
          "name": "stdout",
          "text": [
            "pca_corr2 yes no\n",
            "NN Width: 256\n",
            "NN Depth: 1\n",
            "LR: 1e-2\n",
            "SGD momentum: .5\n",
            "AUC on the test set, partition 1:  0.9056840607116854 \t Running time:  0.1458885669708252\n",
            "AUC on the test set, partition 2:  0.8504749097710077 \t Running time:  0.1037697792053223\n",
            "AUC on the test set, partition 3:  0.8911032829416698 \t Running time:  0.0640048980712891\n",
            "AUC on the test set, partition 4:  0.8440614693798927 \t Running time:  0.0817959308624268\n",
            "AUC on the test set, partition 5:  0.8476095484181918 \t Running time:  0.0790171623229980\n",
            "AUC on the test set, partition 6:  0.9090446069169473 \t Running time:  0.0820815563201904\n",
            "AUC on the test set, partition 7:  0.8654282473057289 \t Running time:  0.0703666210174561\n",
            "AUC on the test set, partition 8:  0.9087180603948897 \t Running time:  0.0619866847991943\n",
            "AUC on the test set, partition 9:  0.9013795542978422 \t Running time:  0.0641443729400635\n",
            "AUC on the test set, partition 10:  0.8311223932743750 \t Running time:  0.0874071121215820\n",
            "Mean AUC: 0.8754626133412231\tMean running time: 0.08740711212158203\n",
            "\t0.9056840538978577 0.1458885669708252\n",
            "\t0.8504748940467834 0.10376977920532227\n",
            "\t0.8911032676696777 0.06400489807128906\n",
            "\t0.8440614938735962 0.08179593086242676\n",
            "\t0.8476095199584961 0.07901716232299805\n",
            "\t0.909044623374939 0.08208155632019043\n",
            "\t0.8654282689094543 0.07036662101745605\n",
            "\t0.9087180495262146 0.061986684799194336\n",
            "\t0.9013795256614685 0.06414437294006348\n",
            "\t0.8311223983764648 0.08740711212158203\n"
          ]
        }
      ]
    },
    {
      "cell_type": "code",
      "source": [
        "!python3 src/mlp.py --ds pca_corr3 --small yes --bal no"
      ],
      "metadata": {
        "colab": {
          "base_uri": "https://localhost:8080/"
        },
        "id": "GsUSENBmT9ZL",
        "outputId": "37435689-c734-46a3-ca20-0baeb2335154"
      },
      "execution_count": null,
      "outputs": [
        {
          "output_type": "stream",
          "name": "stdout",
          "text": [
            "pca_corr3 yes no\n",
            "NN Width: 128\n",
            "NN Depth: 1\n",
            "LR: 1e-1\n",
            "SGD momentum: 0\n",
            "AUC on the test set, partition 1:  0.8934029030557020 \t Running time:  0.0990879535675049\n",
            "AUC on the test set, partition 2:  0.8293280340142342 \t Running time:  0.1121487617492676\n",
            "AUC on the test set, partition 3:  0.8291657261193638 \t Running time:  0.0899870395660400\n",
            "AUC on the test set, partition 4:  0.8296611278437739 \t Running time:  0.0571944713592529\n",
            "AUC on the test set, partition 5:  0.8268743667679836 \t Running time:  0.0618815422058105\n",
            "AUC on the test set, partition 6:  0.8889842419359782 \t Running time:  0.1159534454345703\n",
            "AUC on the test set, partition 7:  0.8375589496042132 \t Running time:  0.1181526184082031\n",
            "AUC on the test set, partition 8:  0.9079921602787459 \t Running time:  0.1058726310729980\n",
            "AUC on the test set, partition 9:  0.8985119212619482 \t Running time:  0.0828042030334473\n",
            "AUC on the test set, partition 10:  0.8869867384979687 \t Running time:  0.1416728496551514\n",
            "Mean AUC: 0.862846616937991\tMean running time: 0.14167284965515137\n",
            "\t0.8934028744697571 0.09908795356750488\n",
            "\t0.8293280601501465 0.11214876174926758\n",
            "\t0.8291656970977783 0.08998703956604004\n",
            "\t0.8296611309051514 0.05719447135925293\n",
            "\t0.8268743753433228 0.06188154220581055\n",
            "\t0.8889842629432678 0.11595344543457031\n",
            "\t0.837558925151825 0.11815261840820312\n",
            "\t0.9079921841621399 0.10587263107299805\n",
            "\t0.8985119462013245 0.08280420303344727\n",
            "\t0.8869867324829102 0.14167284965515137\n"
          ]
        }
      ]
    },
    {
      "cell_type": "code",
      "source": [
        "!python3 src/mlp.py --ds lda --small no --bal yes"
      ],
      "metadata": {
        "colab": {
          "base_uri": "https://localhost:8080/"
        },
        "id": "BNM0tlXAUBeH",
        "outputId": "2a013e06-daf3-42ca-b0f7-3b4ceeec769a"
      },
      "execution_count": null,
      "outputs": [
        {
          "output_type": "stream",
          "name": "stdout",
          "text": [
            "lda no yes\n",
            "NN Width: 8\n",
            "NN Depth: 2\n",
            "LR: 1e-2\n",
            "SGD momentum: 0\n",
            "AUC on the test set, partition 1:  0.9050910559391042 \t Running time:  0.2121622562408447\n",
            "AUC on the test set, partition 2:  0.9180908608216631 \t Running time:  0.1959259510040283\n",
            "AUC on the test set, partition 3:  0.9065797749115859 \t Running time:  0.1571555137634277\n",
            "AUC on the test set, partition 4:  0.5000000000000000 \t Running time:  0.0402228832244873\n",
            "AUC on the test set, partition 5:  0.9093778212384311 \t Running time:  0.1527001857757568\n",
            "AUC on the test set, partition 6:  0.5006369426751592 \t Running time:  0.0443267822265625\n",
            "AUC on the test set, partition 7:  0.5003095348996155 \t Running time:  0.0382702350616455\n",
            "AUC on the test set, partition 8:  0.5000000000000000 \t Running time:  0.0383129119873047\n",
            "AUC on the test set, partition 9:  0.9092466078150631 \t Running time:  0.1396996974945068\n",
            "AUC on the test set, partition 10:  0.9093634781232692 \t Running time:  0.1236879825592041\n",
            "Mean AUC: 0.7458696076423891\tMean running time: 0.1236879825592041\n",
            "\t0.9050910472869873 0.21216225624084473\n",
            "\t0.9180908799171448 0.19592595100402832\n",
            "\t0.9065797924995422 0.15715551376342773\n",
            "\t0.5 0.040222883224487305\n",
            "\t0.9093778133392334 0.15270018577575684\n",
            "\t0.5006369352340698 0.0443267822265625\n",
            "\t0.5003095269203186 0.03827023506164551\n",
            "\t0.5 0.03831291198730469\n",
            "\t0.9092466235160828 0.13969969749450684\n",
            "\t0.9093634486198425 0.1236879825592041\n"
          ]
        }
      ]
    },
    {
      "cell_type": "code",
      "source": [
        "!python3 src/mlp.py --ds pca --small no --bal yes"
      ],
      "metadata": {
        "colab": {
          "base_uri": "https://localhost:8080/"
        },
        "id": "kR4caRR0UGUk",
        "outputId": "423270c7-84c6-4062-8646-bdd87a9694d9"
      },
      "execution_count": null,
      "outputs": [
        {
          "output_type": "stream",
          "name": "stdout",
          "text": [
            "pca no yes\n",
            "NN Width: 256\n",
            "NN Depth: 4\n",
            "LR: 1e-1\n",
            "SGD momentum: .9\n",
            "AUC on the test set, partition 1:  0.9276329723339150 \t Running time:  0.4250671863555908\n",
            "AUC on the test set, partition 2:  0.9329415910520310 \t Running time:  0.3170731067657471\n",
            "AUC on the test set, partition 3:  0.9275830491547332 \t Running time:  0.4402408599853516\n",
            "AUC on the test set, partition 4:  0.9263243126429915 \t Running time:  0.3030052185058594\n",
            "AUC on the test set, partition 5:  0.9194087375667961 \t Running time:  0.2970626354217529\n",
            "AUC on the test set, partition 6:  0.9226197626084620 \t Running time:  0.3029952049255371\n",
            "AUC on the test set, partition 7:  0.9352530818179555 \t Running time:  0.2902483940124512\n",
            "AUC on the test set, partition 8:  0.9261877783361623 \t Running time:  0.3399305343627930\n",
            "AUC on the test set, partition 9:  0.9245173662801172 \t Running time:  0.2870545387268066\n",
            "AUC on the test set, partition 10:  0.9149109897934963 \t Running time:  0.3345260620117188\n",
            "Mean AUC: 0.9257379641586659\tMean running time: 0.33452606201171875\n",
            "\t0.9276329874992371 0.4250671863555908\n",
            "\t0.9329416155815125 0.31707310676574707\n",
            "\t0.9275830388069153 0.44024085998535156\n",
            "\t0.9263243079185486 0.3030052185058594\n",
            "\t0.9194087386131287 0.29706263542175293\n",
            "\t0.9226197600364685 0.3029952049255371\n",
            "\t0.9352530837059021 0.29024839401245117\n",
            "\t0.9261877536773682 0.33993053436279297\n",
            "\t0.9245173931121826 0.28705453872680664\n",
            "\t0.9149109721183777 0.33452606201171875\n"
          ]
        }
      ]
    },
    {
      "cell_type": "code",
      "source": [
        "!python3 src/mlp.py --ds autoenc --small no --bal yes"
      ],
      "metadata": {
        "colab": {
          "base_uri": "https://localhost:8080/"
        },
        "id": "iX2WdMVlUHoC",
        "outputId": "226844e6-8863-43d0-9ec4-391e59b99a06"
      },
      "execution_count": null,
      "outputs": [
        {
          "output_type": "stream",
          "name": "stdout",
          "text": [
            "autoenc no yes\n",
            "NN Width: 32\n",
            "NN Depth: 8\n",
            "LR: 1e-1\n",
            "SGD momentum: .9\n",
            "AUC on the test set, partition 1:  0.9122980047037402 \t Running time:  0.5961730480194092\n",
            "AUC on the test set, partition 2:  0.9094544368487423 \t Running time:  0.5268595218658447\n",
            "AUC on the test set, partition 3:  0.9169382034012938 \t Running time:  0.7233848571777344\n",
            "AUC on the test set, partition 4:  0.9111201451022269 \t Running time:  0.4546992778778076\n",
            "AUC on the test set, partition 5:  0.9110220167718612 \t Running time:  0.5188763141632080\n",
            "AUC on the test set, partition 6:  0.9064294858624015 \t Running time:  0.6220169067382812\n",
            "AUC on the test set, partition 7:  0.8868830685002510 \t Running time:  0.3496756553649902\n",
            "AUC on the test set, partition 8:  0.9134688626975020 \t Running time:  0.5697183609008789\n",
            "AUC on the test set, partition 9:  0.9129975283590769 \t Running time:  0.5825881958007812\n",
            "AUC on the test set, partition 10:  0.9064039876572514 \t Running time:  0.4191358089447021\n",
            "Mean AUC: 0.9087015739904347\tMean running time: 0.41913580894470215\n",
            "\t0.9122980237007141 0.5961730480194092\n",
            "\t0.9094544649124146 0.5268595218658447\n",
            "\t0.9169381856918335 0.7233848571777344\n",
            "\t0.9111201167106628 0.4546992778778076\n",
            "\t0.9110220074653625 0.518876314163208\n",
            "\t0.9064294695854187 0.6220169067382812\n",
            "\t0.8868830800056458 0.34967565536499023\n",
            "\t0.9134688377380371 0.5697183609008789\n",
            "\t0.9129975438117981 0.5825881958007812\n",
            "\t0.9064039587974548 0.41913580894470215\n"
          ]
        }
      ]
    }
  ]
}